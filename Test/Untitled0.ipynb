{
  "nbformat": 4,
  "nbformat_minor": 0,
  "metadata": {
    "colab": {
      "provenance": [],
      "authorship_tag": "ABX9TyMKkBH3mT+UPF1UqJd54Hq2",
      "include_colab_link": true
    },
    "kernelspec": {
      "name": "python3",
      "display_name": "Python 3"
    },
    "language_info": {
      "name": "python"
    }
  },
  "cells": [
    {
      "cell_type": "markdown",
      "metadata": {
        "id": "view-in-github",
        "colab_type": "text"
      },
      "source": [
        "<a href=\"https://colab.research.google.com/github/was101/Test/blob/main/Test/Untitled0.ipynb\" target=\"_parent\"><img src=\"https://colab.research.google.com/assets/colab-badge.svg\" alt=\"Open In Colab\"/></a>"
      ]
    },
    {
      "cell_type": "code",
      "execution_count": null,
      "metadata": {
        "id": "xJ5fT9Y91udi"
      },
      "outputs": [],
      "source": [
        "def game(a, b):\n",
        "  rank = {'가위':['바위','가위','보'], '바위':['보','바위','가위'], '보':['가위','보','바위']}\n",
        "  wl = {0:'lose', 1:'draw', 2:'win'}\n",
        "  print(wl[rank[a].index(b)])"
      ]
    },
    {
      "cell_type": "code",
      "source": [
        "game('가위', '가위')\n",
        "game('가위', '보')\n",
        "game('가위', '바위')"
      ],
      "metadata": {
        "colab": {
          "base_uri": "https://localhost:8080/"
        },
        "id": "MlC1lU5Z2uY1",
        "outputId": "11a77174-1efd-4acd-f0bf-ffae39ecac24"
      },
      "execution_count": null,
      "outputs": [
        {
          "output_type": "stream",
          "name": "stdout",
          "text": [
            "draw\n",
            "win\n",
            "lose\n"
          ]
        }
      ]
    },
    {
      "cell_type": "code",
      "source": [
        "game('바위', '가위')\n",
        "game('바위', '보')\n",
        "game('바위', '바위')"
      ],
      "metadata": {
        "colab": {
          "base_uri": "https://localhost:8080/"
        },
        "id": "ZsXvnZIV2zA9",
        "outputId": "3fb6e567-90f5-41bb-86f7-a540d300a6b7"
      },
      "execution_count": null,
      "outputs": [
        {
          "output_type": "stream",
          "name": "stdout",
          "text": [
            "win\n",
            "lose\n",
            "draw\n"
          ]
        }
      ]
    },
    {
      "cell_type": "code",
      "source": [
        "game('보', '가위')\n",
        "game('보', '보')\n",
        "game('보', '바위')"
      ],
      "metadata": {
        "colab": {
          "base_uri": "https://localhost:8080/"
        },
        "id": "Z8TXIvI53LF2",
        "outputId": "689fb5df-beab-46a2-f4bd-a5c22b72bd09"
      },
      "execution_count": null,
      "outputs": [
        {
          "output_type": "stream",
          "name": "stdout",
          "text": [
            "lose\n",
            "draw\n",
            "win\n"
          ]
        }
      ]
    },
    {
      "cell_type": "code",
      "source": [
        "df.loc[(df.Glucose.isna() == True) & (df.Outcome == 1),'Glucose'] = df[df.Outcome == 1].Glucose.median()"
      ],
      "metadata": {
        "id": "4qYTSHp33QR6"
      },
      "execution_count": null,
      "outputs": []
    }
  ]
}